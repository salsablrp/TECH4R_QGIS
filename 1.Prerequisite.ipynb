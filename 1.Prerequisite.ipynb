{
 "cells": [
  {
   "cell_type": "markdown",
   "metadata": {},
   "source": [
    "<p align=\"center\">\n",
    "  <img src=\"https://encrypted-tbn0.gstatic.com/images?q=tbn:ANd9GcRhUs1QHmhewX7cwYaht4uMf4I2Wf9ZGiPBFw&s?raw=true\" width=\"15%\" height=\"15%\" />\n",
    "  <img src=\"https://encrypted-tbn0.gstatic.com/images?q=tbn:ANd9GcSuoQINhYNQh2ki67e7x29QMNM6aiemXUT-Sw&s?raw=true\" width=\"25%\" height=\"25%\" />\n",
    "  <img src=\"https://upload.wikimedia.org/wikipedia/commons/thumb/9/9f/UNDP_logo.svg/1011px-UNDP_logo.svg.png?raw=true\" width=\"7%\" height=\"7%\" />\n",
    "</p>"
   ]
  },
  {
   "cell_type": "markdown",
   "metadata": {
    "tags": []
   },
   "source": [
    "# Prerequisite\n",
    "\n",
    "In this module, we will go through each step to install QGIS.\n",
    "Explanation on the data provided in `Datasets` folder will be provided as well.\n",
    "\n",
    "---"
   ]
  },
  {
   "cell_type": "markdown",
   "metadata": {},
   "source": [
    "## 1. QGIS Installation\n",
    "\n",
    "QGIS is a free and open-source Geographic Information System (GIS) application that allows users to analyze and visualize spatial data. It has extensive tools for handling geospatial data and supports advanced machine learning workflows through its plugins and integrations.\n",
    "\n",
    "1. QGIS already provide an installation guide which explains the versions and different supported Operating Systems [here](https://www.qgis.org/resources/installation-guide/).\n",
    "2. For Windows, we can download the versions from [here](https://www.qgis.org/download/).\n",
    "3. Choose `Long Term Version for Windows` to have more sustainable version of QGIS.\n",
    "4. After its downloaded, you can \n",
    "\n",
    "---"
   ]
  },
  {
   "cell_type": "code",
   "execution_count": null,
   "metadata": {},
   "outputs": [],
   "source": []
  }
 ],
 "metadata": {
  "kernelspec": {
   "display_name": "Python 3 (ipykernel)",
   "language": "python",
   "name": "python3"
  },
  "language_info": {
   "codemirror_mode": {
    "name": "ipython",
    "version": 3
   },
   "file_extension": ".py",
   "mimetype": "text/x-python",
   "name": "python",
   "nbconvert_exporter": "python",
   "pygments_lexer": "ipython3",
   "version": "3.11.5"
  },
  "toc-autonumbering": false,
  "toc-showcode": true,
  "toc-showmarkdowntxt": false
 },
 "nbformat": 4,
 "nbformat_minor": 4
}
